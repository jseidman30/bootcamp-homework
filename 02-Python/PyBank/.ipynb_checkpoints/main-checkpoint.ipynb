{
 "cells": [
  {
   "cell_type": "code",
   "execution_count": 2,
   "id": "f18a16da",
   "metadata": {},
   "outputs": [],
   "source": [
    "import pandas as pd"
   ]
  },
  {
   "cell_type": "code",
   "execution_count": 3,
   "id": "2b50bfbf",
   "metadata": {},
   "outputs": [],
   "source": [
    "from pathlib import Path"
   ]
  },
  {
   "cell_type": "code",
   "execution_count": 13,
   "id": "ff9f753e",
   "metadata": {},
   "outputs": [],
   "source": [
    "filepath = \"/Users/jeremyseidman/Desktop/Trilogy/cu-nyc-virt-fin-pt-03-2021-u-c/02-Homework/02-Python/Instructions/PyBank/Resources/budget_data.csv\""
   ]
  },
  {
   "cell_type": "code",
   "execution_count": 14,
   "id": "75223bdb",
   "metadata": {},
   "outputs": [],
   "source": [
    "dataframe = pd.read_csv(filepath,index_col='Date',parse_dates=True,infer_datetime_format=True)"
   ]
  },
  {
   "cell_type": "code",
   "execution_count": 15,
   "id": "7ab433b3",
   "metadata": {},
   "outputs": [
    {
     "data": {
      "text/plain": [
       "<bound method NDFrame.head of             Profit/Losses\n",
       "Date                     \n",
       "2010-01-01         867884\n",
       "2010-02-01         984655\n",
       "2010-03-01         322013\n",
       "2010-04-01         -69417\n",
       "2010-05-01         310503\n",
       "...                   ...\n",
       "2016-10-01         102685\n",
       "2016-11-01         795914\n",
       "2016-12-01          60988\n",
       "2017-01-01         138230\n",
       "2017-02-01         671099\n",
       "\n",
       "[86 rows x 1 columns]>"
      ]
     },
     "execution_count": 15,
     "metadata": {},
     "output_type": "execute_result"
    }
   ],
   "source": [
    "dataframe.head"
   ]
  },
  {
   "cell_type": "code",
   "execution_count": 27,
   "id": "2c2032db",
   "metadata": {},
   "outputs": [
    {
     "data": {
      "text/plain": [
       "86"
      ]
     },
     "execution_count": 27,
     "metadata": {},
     "output_type": "execute_result"
    }
   ],
   "source": [
    "totalmonths = len(dataframe)\n",
    "totalmonths"
   ]
  },
  {
   "cell_type": "code",
   "execution_count": 30,
   "id": "7e2af5a7",
   "metadata": {},
   "outputs": [],
   "source": [
    "nettotal = sum(dataframe[\"Profit/Losses\"])"
   ]
  },
  {
   "cell_type": "code",
   "execution_count": 31,
   "id": "df764eb2",
   "metadata": {},
   "outputs": [
    {
     "data": {
      "text/plain": [
       "38382578"
      ]
     },
     "execution_count": 31,
     "metadata": {},
     "output_type": "execute_result"
    }
   ],
   "source": [
    "nettotal"
   ]
  },
  {
   "cell_type": "code",
   "execution_count": 33,
   "id": "b852e598",
   "metadata": {},
   "outputs": [
    {
     "data": {
      "text/plain": [
       "0"
      ]
     },
     "execution_count": 33,
     "metadata": {},
     "output_type": "execute_result"
    }
   ],
   "source": [
    "increasedays = []\n",
    "decreasedays = []\n",
    "\n",
    "for day in dataframe:\n",
    "    if dataframe.loc[day,\"Profit/Losses\"]>0:\n",
    "        increasedays.append(day)\n",
    "    \n",
    "\n",
    "\n",
    "avgchange"
   ]
  },
  {
   "cell_type": "code",
   "execution_count": 37,
   "id": "33109d6b",
   "metadata": {},
   "outputs": [
    {
     "data": {
      "text/plain": [
       "0"
      ]
     },
     "execution_count": 37,
     "metadata": {},
     "output_type": "execute_result"
    }
   ],
   "source": []
  },
  {
   "cell_type": "code",
   "execution_count": 38,
   "id": "49adf912",
   "metadata": {},
   "outputs": [
    {
     "data": {
      "text/plain": [
       "0"
      ]
     },
     "execution_count": 38,
     "metadata": {},
     "output_type": "execute_result"
    }
   ],
   "source": []
  },
  {
   "cell_type": "code",
   "execution_count": null,
   "id": "022b71a4",
   "metadata": {},
   "outputs": [],
   "source": []
  }
 ],
 "metadata": {
  "kernelspec": {
   "display_name": "Python 3",
   "language": "python",
   "name": "python3"
  },
  "language_info": {
   "codemirror_mode": {
    "name": "ipython",
    "version": 3
   },
   "file_extension": ".py",
   "mimetype": "text/x-python",
   "name": "python",
   "nbconvert_exporter": "python",
   "pygments_lexer": "ipython3",
   "version": "3.8.5"
  }
 },
 "nbformat": 4,
 "nbformat_minor": 5
}
